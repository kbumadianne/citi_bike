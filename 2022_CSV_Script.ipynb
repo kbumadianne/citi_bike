{
 "cells": [
  {
   "cell_type": "code",
   "execution_count": 1,
   "id": "1c12b07f-636f-44a3-858a-98def3e3bcfa",
   "metadata": {},
   "outputs": [],
   "source": [
    "# Create a Python Script to Loop through all of the CSVs, add Month, Year and combine into one CSV for Tableau Upload\n",
    "# Import Dependancies\n",
    "import os\n",
    "import pandas as pd\n",
    "import glob\n",
    "import re"
   ]
  },
  {
   "cell_type": "code",
   "execution_count": 2,
   "id": "1e444d1e-ec5f-4cde-bb5a-27a6eedc465a",
   "metadata": {},
   "outputs": [
    {
     "data": {
      "text/plain": [
       "'2022-citibike-tripdata'"
      ]
     },
     "execution_count": 2,
     "metadata": {},
     "output_type": "execute_result"
    }
   ],
   "source": [
    "# Path where your CSV files are located\n",
    "folder_path = '2022-citibike-tripdata'\n",
    "folder_path"
   ]
  },
  {
   "cell_type": "code",
   "execution_count": 3,
   "id": "baba0f1e-bfef-4ce0-a92a-14e400f4c555",
   "metadata": {},
   "outputs": [],
   "source": [
    "# Pattern to extract month and year from the filename.\n",
    "filename_pattern = r'^(\\d{6})-citibike-tripdata_\\d+\\.csv$'"
   ]
  },
  {
   "cell_type": "code",
   "execution_count": 4,
   "id": "32d697c0-6273-4a48-b528-c798044577b9",
   "metadata": {},
   "outputs": [],
   "source": [
    "# List to hold all DataFrames\n",
    "all_dataframes = []"
   ]
  },
  {
   "cell_type": "code",
   "execution_count": 5,
   "id": "776c2017-08ea-4c8f-a14d-9ce17afb9391",
   "metadata": {},
   "outputs": [
    {
     "name": "stdout",
     "output_type": "stream",
     "text": [
      "Folder path being used: 2022-citibike-tripdata\n",
      "Found 36 CSV files.\n",
      "Processing file: 202201-citibike-tripdata_1.csv\n",
      "Extracted Year: 2022, Month: 01\n"
     ]
    },
    {
     "name": "stderr",
     "output_type": "stream",
     "text": [
      "C:\\Users\\kbuma\\AppData\\Local\\Temp\\ipykernel_75892\\876420610.py:32: DtypeWarning: Columns (5,7) have mixed types. Specify dtype option on import or set low_memory=False.\n",
      "  df = pd.read_csv(csv_file)\n"
     ]
    },
    {
     "name": "stdout",
     "output_type": "stream",
     "text": [
      "DataFrame shape after loading: (1000000, 13)\n",
      "Added DataFrame for 202201-citibike-tripdata_1.csv, shape: (1000000, 15)\n",
      "Processing file: 202201-citibike-tripdata_2.csv\n",
      "Extracted Year: 2022, Month: 01\n",
      "DataFrame shape after loading: (24555, 13)\n",
      "Added DataFrame for 202201-citibike-tripdata_2.csv, shape: (24555, 15)\n",
      "Processing file: 202202-citibike-tripdata_1.csv\n",
      "Extracted Year: 2022, Month: 02\n"
     ]
    },
    {
     "name": "stderr",
     "output_type": "stream",
     "text": [
      "C:\\Users\\kbuma\\AppData\\Local\\Temp\\ipykernel_75892\\876420610.py:32: DtypeWarning: Columns (5,7) have mixed types. Specify dtype option on import or set low_memory=False.\n",
      "  df = pd.read_csv(csv_file)\n"
     ]
    },
    {
     "name": "stdout",
     "output_type": "stream",
     "text": [
      "DataFrame shape after loading: (1000000, 13)\n",
      "Added DataFrame for 202202-citibike-tripdata_1.csv, shape: (1000000, 15)\n",
      "Processing file: 202202-citibike-tripdata_2.csv\n",
      "Extracted Year: 2022, Month: 02\n"
     ]
    },
    {
     "name": "stderr",
     "output_type": "stream",
     "text": [
      "C:\\Users\\kbuma\\AppData\\Local\\Temp\\ipykernel_75892\\876420610.py:32: DtypeWarning: Columns (7) have mixed types. Specify dtype option on import or set low_memory=False.\n",
      "  df = pd.read_csv(csv_file)\n"
     ]
    },
    {
     "name": "stdout",
     "output_type": "stream",
     "text": [
      "DataFrame shape after loading: (197312, 13)\n",
      "Added DataFrame for 202202-citibike-tripdata_2.csv, shape: (197312, 15)\n",
      "Processing file: 202203-citibike-tripdata_1.csv\n",
      "Extracted Year: 2022, Month: 03\n"
     ]
    },
    {
     "name": "stderr",
     "output_type": "stream",
     "text": [
      "C:\\Users\\kbuma\\AppData\\Local\\Temp\\ipykernel_75892\\876420610.py:32: DtypeWarning: Columns (5,7) have mixed types. Specify dtype option on import or set low_memory=False.\n",
      "  df = pd.read_csv(csv_file)\n"
     ]
    },
    {
     "name": "stdout",
     "output_type": "stream",
     "text": [
      "DataFrame shape after loading: (1000000, 13)\n",
      "Added DataFrame for 202203-citibike-tripdata_1.csv, shape: (1000000, 15)\n",
      "Processing file: 202203-citibike-tripdata_2.csv\n",
      "Extracted Year: 2022, Month: 03\n"
     ]
    },
    {
     "name": "stderr",
     "output_type": "stream",
     "text": [
      "C:\\Users\\kbuma\\AppData\\Local\\Temp\\ipykernel_75892\\876420610.py:32: DtypeWarning: Columns (5,7) have mixed types. Specify dtype option on import or set low_memory=False.\n",
      "  df = pd.read_csv(csv_file)\n"
     ]
    },
    {
     "name": "stdout",
     "output_type": "stream",
     "text": [
      "DataFrame shape after loading: (845965, 13)\n",
      "Added DataFrame for 202203-citibike-tripdata_2.csv, shape: (845965, 15)\n",
      "Processing file: 202204-citibike-tripdata_1.csv\n",
      "Extracted Year: 2022, Month: 04\n"
     ]
    },
    {
     "name": "stderr",
     "output_type": "stream",
     "text": [
      "C:\\Users\\kbuma\\AppData\\Local\\Temp\\ipykernel_75892\\876420610.py:32: DtypeWarning: Columns (5,7) have mixed types. Specify dtype option on import or set low_memory=False.\n",
      "  df = pd.read_csv(csv_file)\n"
     ]
    },
    {
     "name": "stdout",
     "output_type": "stream",
     "text": [
      "DataFrame shape after loading: (1000000, 13)\n",
      "Added DataFrame for 202204-citibike-tripdata_1.csv, shape: (1000000, 15)\n",
      "Processing file: 202204-citibike-tripdata_2.csv\n",
      "Extracted Year: 2022, Month: 04\n"
     ]
    },
    {
     "name": "stderr",
     "output_type": "stream",
     "text": [
      "C:\\Users\\kbuma\\AppData\\Local\\Temp\\ipykernel_75892\\876420610.py:32: DtypeWarning: Columns (5,7) have mixed types. Specify dtype option on import or set low_memory=False.\n",
      "  df = pd.read_csv(csv_file)\n"
     ]
    },
    {
     "name": "stdout",
     "output_type": "stream",
     "text": [
      "DataFrame shape after loading: (1000000, 13)\n",
      "Added DataFrame for 202204-citibike-tripdata_2.csv, shape: (1000000, 15)\n",
      "Processing file: 202204-citibike-tripdata_3.csv\n",
      "Extracted Year: 2022, Month: 04\n"
     ]
    },
    {
     "name": "stderr",
     "output_type": "stream",
     "text": [
      "C:\\Users\\kbuma\\AppData\\Local\\Temp\\ipykernel_75892\\876420610.py:32: DtypeWarning: Columns (5,7) have mixed types. Specify dtype option on import or set low_memory=False.\n",
      "  df = pd.read_csv(csv_file)\n"
     ]
    },
    {
     "name": "stdout",
     "output_type": "stream",
     "text": [
      "DataFrame shape after loading: (260790, 13)\n",
      "Added DataFrame for 202204-citibike-tripdata_3.csv, shape: (260790, 15)\n",
      "Processing file: 202205-citibike-tripdata_1.csv\n",
      "Extracted Year: 2022, Month: 05\n"
     ]
    },
    {
     "name": "stderr",
     "output_type": "stream",
     "text": [
      "C:\\Users\\kbuma\\AppData\\Local\\Temp\\ipykernel_75892\\876420610.py:32: DtypeWarning: Columns (5,7) have mixed types. Specify dtype option on import or set low_memory=False.\n",
      "  df = pd.read_csv(csv_file)\n"
     ]
    },
    {
     "name": "stdout",
     "output_type": "stream",
     "text": [
      "DataFrame shape after loading: (1000000, 13)\n",
      "Added DataFrame for 202205-citibike-tripdata_1.csv, shape: (1000000, 15)\n",
      "Processing file: 202205-citibike-tripdata_2.csv\n",
      "Extracted Year: 2022, Month: 05\n"
     ]
    },
    {
     "name": "stderr",
     "output_type": "stream",
     "text": [
      "C:\\Users\\kbuma\\AppData\\Local\\Temp\\ipykernel_75892\\876420610.py:32: DtypeWarning: Columns (5,7) have mixed types. Specify dtype option on import or set low_memory=False.\n",
      "  df = pd.read_csv(csv_file)\n"
     ]
    },
    {
     "name": "stdout",
     "output_type": "stream",
     "text": [
      "DataFrame shape after loading: (1000000, 13)\n",
      "Added DataFrame for 202205-citibike-tripdata_2.csv, shape: (1000000, 15)\n",
      "Processing file: 202205-citibike-tripdata_3.csv\n",
      "Extracted Year: 2022, Month: 05\n"
     ]
    },
    {
     "name": "stderr",
     "output_type": "stream",
     "text": [
      "C:\\Users\\kbuma\\AppData\\Local\\Temp\\ipykernel_75892\\876420610.py:32: DtypeWarning: Columns (5,7) have mixed types. Specify dtype option on import or set low_memory=False.\n",
      "  df = pd.read_csv(csv_file)\n"
     ]
    },
    {
     "name": "stdout",
     "output_type": "stream",
     "text": [
      "DataFrame shape after loading: (865425, 13)\n",
      "Added DataFrame for 202205-citibike-tripdata_3.csv, shape: (865425, 15)\n",
      "Processing file: 202206-citibike-tripdata_1.csv\n",
      "Extracted Year: 2022, Month: 06\n"
     ]
    },
    {
     "name": "stderr",
     "output_type": "stream",
     "text": [
      "C:\\Users\\kbuma\\AppData\\Local\\Temp\\ipykernel_75892\\876420610.py:32: DtypeWarning: Columns (5,7) have mixed types. Specify dtype option on import or set low_memory=False.\n",
      "  df = pd.read_csv(csv_file)\n"
     ]
    },
    {
     "name": "stdout",
     "output_type": "stream",
     "text": [
      "DataFrame shape after loading: (1000000, 13)\n",
      "Added DataFrame for 202206-citibike-tripdata_1.csv, shape: (1000000, 15)\n",
      "Processing file: 202206-citibike-tripdata_2.csv\n",
      "Extracted Year: 2022, Month: 06\n"
     ]
    },
    {
     "name": "stderr",
     "output_type": "stream",
     "text": [
      "C:\\Users\\kbuma\\AppData\\Local\\Temp\\ipykernel_75892\\876420610.py:32: DtypeWarning: Columns (5,7) have mixed types. Specify dtype option on import or set low_memory=False.\n",
      "  df = pd.read_csv(csv_file)\n"
     ]
    },
    {
     "name": "stdout",
     "output_type": "stream",
     "text": [
      "DataFrame shape after loading: (1000000, 13)\n",
      "Added DataFrame for 202206-citibike-tripdata_2.csv, shape: (1000000, 15)\n",
      "Processing file: 202206-citibike-tripdata_3.csv\n",
      "Extracted Year: 2022, Month: 06\n"
     ]
    },
    {
     "name": "stderr",
     "output_type": "stream",
     "text": [
      "C:\\Users\\kbuma\\AppData\\Local\\Temp\\ipykernel_75892\\876420610.py:32: DtypeWarning: Columns (5,7) have mixed types. Specify dtype option on import or set low_memory=False.\n",
      "  df = pd.read_csv(csv_file)\n"
     ]
    },
    {
     "name": "stdout",
     "output_type": "stream",
     "text": [
      "DataFrame shape after loading: (1000000, 13)\n",
      "Added DataFrame for 202206-citibike-tripdata_3.csv, shape: (1000000, 15)\n",
      "Processing file: 202206-citibike-tripdata_4.csv\n",
      "Extracted Year: 2022, Month: 06\n"
     ]
    },
    {
     "name": "stderr",
     "output_type": "stream",
     "text": [
      "C:\\Users\\kbuma\\AppData\\Local\\Temp\\ipykernel_75892\\876420610.py:32: DtypeWarning: Columns (5,7) have mixed types. Specify dtype option on import or set low_memory=False.\n",
      "  df = pd.read_csv(csv_file)\n"
     ]
    },
    {
     "name": "stdout",
     "output_type": "stream",
     "text": [
      "DataFrame shape after loading: (343914, 13)\n",
      "Added DataFrame for 202206-citibike-tripdata_4.csv, shape: (343914, 15)\n",
      "Processing file: 202207-citibike-tripdata_1.csv\n",
      "Extracted Year: 2022, Month: 07\n"
     ]
    },
    {
     "name": "stderr",
     "output_type": "stream",
     "text": [
      "C:\\Users\\kbuma\\AppData\\Local\\Temp\\ipykernel_75892\\876420610.py:32: DtypeWarning: Columns (5,7) have mixed types. Specify dtype option on import or set low_memory=False.\n",
      "  df = pd.read_csv(csv_file)\n"
     ]
    },
    {
     "name": "stdout",
     "output_type": "stream",
     "text": [
      "DataFrame shape after loading: (1000000, 13)\n",
      "Added DataFrame for 202207-citibike-tripdata_1.csv, shape: (1000000, 15)\n",
      "Processing file: 202207-citibike-tripdata_2.csv\n",
      "Extracted Year: 2022, Month: 07\n"
     ]
    },
    {
     "name": "stderr",
     "output_type": "stream",
     "text": [
      "C:\\Users\\kbuma\\AppData\\Local\\Temp\\ipykernel_75892\\876420610.py:32: DtypeWarning: Columns (5,7) have mixed types. Specify dtype option on import or set low_memory=False.\n",
      "  df = pd.read_csv(csv_file)\n"
     ]
    },
    {
     "name": "stdout",
     "output_type": "stream",
     "text": [
      "DataFrame shape after loading: (1000000, 13)\n",
      "Added DataFrame for 202207-citibike-tripdata_2.csv, shape: (1000000, 15)\n",
      "Processing file: 202207-citibike-tripdata_3.csv\n",
      "Extracted Year: 2022, Month: 07\n"
     ]
    },
    {
     "name": "stderr",
     "output_type": "stream",
     "text": [
      "C:\\Users\\kbuma\\AppData\\Local\\Temp\\ipykernel_75892\\876420610.py:32: DtypeWarning: Columns (5,7) have mixed types. Specify dtype option on import or set low_memory=False.\n",
      "  df = pd.read_csv(csv_file)\n"
     ]
    },
    {
     "name": "stdout",
     "output_type": "stream",
     "text": [
      "DataFrame shape after loading: (1000000, 13)\n",
      "Added DataFrame for 202207-citibike-tripdata_3.csv, shape: (1000000, 15)\n",
      "Processing file: 202207-citibike-tripdata_4.csv\n",
      "Extracted Year: 2022, Month: 07\n"
     ]
    },
    {
     "name": "stderr",
     "output_type": "stream",
     "text": [
      "C:\\Users\\kbuma\\AppData\\Local\\Temp\\ipykernel_75892\\876420610.py:32: DtypeWarning: Columns (5,7) have mixed types. Specify dtype option on import or set low_memory=False.\n",
      "  df = pd.read_csv(csv_file)\n"
     ]
    },
    {
     "name": "stdout",
     "output_type": "stream",
     "text": [
      "DataFrame shape after loading: (397932, 13)\n",
      "Added DataFrame for 202207-citibike-tripdata_4.csv, shape: (397932, 15)\n",
      "Processing file: 202208-citibike-tripdata_1.csv\n",
      "Extracted Year: 2022, Month: 08\n"
     ]
    },
    {
     "name": "stderr",
     "output_type": "stream",
     "text": [
      "C:\\Users\\kbuma\\AppData\\Local\\Temp\\ipykernel_75892\\876420610.py:32: DtypeWarning: Columns (5,7) have mixed types. Specify dtype option on import or set low_memory=False.\n",
      "  df = pd.read_csv(csv_file)\n"
     ]
    },
    {
     "name": "stdout",
     "output_type": "stream",
     "text": [
      "DataFrame shape after loading: (1000000, 13)\n",
      "Added DataFrame for 202208-citibike-tripdata_1.csv, shape: (1000000, 15)\n",
      "Processing file: 202208-citibike-tripdata_2.csv\n",
      "Extracted Year: 2022, Month: 08\n"
     ]
    },
    {
     "name": "stderr",
     "output_type": "stream",
     "text": [
      "C:\\Users\\kbuma\\AppData\\Local\\Temp\\ipykernel_75892\\876420610.py:32: DtypeWarning: Columns (5,7) have mixed types. Specify dtype option on import or set low_memory=False.\n",
      "  df = pd.read_csv(csv_file)\n"
     ]
    },
    {
     "name": "stdout",
     "output_type": "stream",
     "text": [
      "DataFrame shape after loading: (1000000, 13)\n",
      "Added DataFrame for 202208-citibike-tripdata_2.csv, shape: (1000000, 15)\n",
      "Processing file: 202208-citibike-tripdata_3.csv\n",
      "Extracted Year: 2022, Month: 08\n"
     ]
    },
    {
     "name": "stderr",
     "output_type": "stream",
     "text": [
      "C:\\Users\\kbuma\\AppData\\Local\\Temp\\ipykernel_75892\\876420610.py:32: DtypeWarning: Columns (5,7) have mixed types. Specify dtype option on import or set low_memory=False.\n",
      "  df = pd.read_csv(csv_file)\n"
     ]
    },
    {
     "name": "stdout",
     "output_type": "stream",
     "text": [
      "DataFrame shape after loading: (1000000, 13)\n",
      "Added DataFrame for 202208-citibike-tripdata_3.csv, shape: (1000000, 15)\n",
      "Processing file: 202208-citibike-tripdata_4.csv\n",
      "Extracted Year: 2022, Month: 08\n"
     ]
    },
    {
     "name": "stderr",
     "output_type": "stream",
     "text": [
      "C:\\Users\\kbuma\\AppData\\Local\\Temp\\ipykernel_75892\\876420610.py:32: DtypeWarning: Columns (5,7) have mixed types. Specify dtype option on import or set low_memory=False.\n",
      "  df = pd.read_csv(csv_file)\n"
     ]
    },
    {
     "name": "stdout",
     "output_type": "stream",
     "text": [
      "DataFrame shape after loading: (576020, 13)\n",
      "Added DataFrame for 202208-citibike-tripdata_4.csv, shape: (576020, 15)\n",
      "Processing file: 202209-citibike-tripdata_1.csv\n",
      "Extracted Year: 2022, Month: 09\n"
     ]
    },
    {
     "name": "stderr",
     "output_type": "stream",
     "text": [
      "C:\\Users\\kbuma\\AppData\\Local\\Temp\\ipykernel_75892\\876420610.py:32: DtypeWarning: Columns (5,7) have mixed types. Specify dtype option on import or set low_memory=False.\n",
      "  df = pd.read_csv(csv_file)\n"
     ]
    },
    {
     "name": "stdout",
     "output_type": "stream",
     "text": [
      "DataFrame shape after loading: (1000000, 13)\n",
      "Added DataFrame for 202209-citibike-tripdata_1.csv, shape: (1000000, 15)\n",
      "Processing file: 202209-citibike-tripdata_2.csv\n",
      "Extracted Year: 2022, Month: 09\n"
     ]
    },
    {
     "name": "stderr",
     "output_type": "stream",
     "text": [
      "C:\\Users\\kbuma\\AppData\\Local\\Temp\\ipykernel_75892\\876420610.py:32: DtypeWarning: Columns (5,7) have mixed types. Specify dtype option on import or set low_memory=False.\n",
      "  df = pd.read_csv(csv_file)\n"
     ]
    },
    {
     "name": "stdout",
     "output_type": "stream",
     "text": [
      "DataFrame shape after loading: (1000000, 13)\n",
      "Added DataFrame for 202209-citibike-tripdata_2.csv, shape: (1000000, 15)\n",
      "Processing file: 202209-citibike-tripdata_3.csv\n",
      "Extracted Year: 2022, Month: 09\n"
     ]
    },
    {
     "name": "stderr",
     "output_type": "stream",
     "text": [
      "C:\\Users\\kbuma\\AppData\\Local\\Temp\\ipykernel_75892\\876420610.py:32: DtypeWarning: Columns (5,7) have mixed types. Specify dtype option on import or set low_memory=False.\n",
      "  df = pd.read_csv(csv_file)\n"
     ]
    },
    {
     "name": "stdout",
     "output_type": "stream",
     "text": [
      "DataFrame shape after loading: (1000000, 13)\n",
      "Added DataFrame for 202209-citibike-tripdata_3.csv, shape: (1000000, 15)\n",
      "Processing file: 202209-citibike-tripdata_4.csv\n",
      "Extracted Year: 2022, Month: 09\n"
     ]
    },
    {
     "name": "stderr",
     "output_type": "stream",
     "text": [
      "C:\\Users\\kbuma\\AppData\\Local\\Temp\\ipykernel_75892\\876420610.py:32: DtypeWarning: Columns (5,7) have mixed types. Specify dtype option on import or set low_memory=False.\n",
      "  df = pd.read_csv(csv_file)\n"
     ]
    },
    {
     "name": "stdout",
     "output_type": "stream",
     "text": [
      "DataFrame shape after loading: (411866, 13)\n",
      "Added DataFrame for 202209-citibike-tripdata_4.csv, shape: (411866, 15)\n",
      "Processing file: 202210-citibike-tripdata_1.csv\n",
      "Extracted Year: 2022, Month: 10\n"
     ]
    },
    {
     "name": "stderr",
     "output_type": "stream",
     "text": [
      "C:\\Users\\kbuma\\AppData\\Local\\Temp\\ipykernel_75892\\876420610.py:32: DtypeWarning: Columns (5,7) have mixed types. Specify dtype option on import or set low_memory=False.\n",
      "  df = pd.read_csv(csv_file)\n"
     ]
    },
    {
     "name": "stdout",
     "output_type": "stream",
     "text": [
      "DataFrame shape after loading: (1000000, 13)\n",
      "Added DataFrame for 202210-citibike-tripdata_1.csv, shape: (1000000, 15)\n",
      "Processing file: 202210-citibike-tripdata_2.csv\n",
      "Extracted Year: 2022, Month: 10\n"
     ]
    },
    {
     "name": "stderr",
     "output_type": "stream",
     "text": [
      "C:\\Users\\kbuma\\AppData\\Local\\Temp\\ipykernel_75892\\876420610.py:32: DtypeWarning: Columns (5,7) have mixed types. Specify dtype option on import or set low_memory=False.\n",
      "  df = pd.read_csv(csv_file)\n"
     ]
    },
    {
     "name": "stdout",
     "output_type": "stream",
     "text": [
      "DataFrame shape after loading: (1000000, 13)\n",
      "Added DataFrame for 202210-citibike-tripdata_2.csv, shape: (1000000, 15)\n",
      "Processing file: 202210-citibike-tripdata_3.csv\n",
      "Extracted Year: 2022, Month: 10\n"
     ]
    },
    {
     "name": "stderr",
     "output_type": "stream",
     "text": [
      "C:\\Users\\kbuma\\AppData\\Local\\Temp\\ipykernel_75892\\876420610.py:32: DtypeWarning: Columns (5,7) have mixed types. Specify dtype option on import or set low_memory=False.\n",
      "  df = pd.read_csv(csv_file)\n"
     ]
    },
    {
     "name": "stdout",
     "output_type": "stream",
     "text": [
      "DataFrame shape after loading: (936584, 13)\n",
      "Added DataFrame for 202210-citibike-tripdata_3.csv, shape: (936584, 15)\n",
      "Processing file: 202211-citibike-tripdata_1.csv\n",
      "Extracted Year: 2022, Month: 11\n"
     ]
    },
    {
     "name": "stderr",
     "output_type": "stream",
     "text": [
      "C:\\Users\\kbuma\\AppData\\Local\\Temp\\ipykernel_75892\\876420610.py:32: DtypeWarning: Columns (5,7) have mixed types. Specify dtype option on import or set low_memory=False.\n",
      "  df = pd.read_csv(csv_file)\n"
     ]
    },
    {
     "name": "stdout",
     "output_type": "stream",
     "text": [
      "DataFrame shape after loading: (1000000, 13)\n",
      "Added DataFrame for 202211-citibike-tripdata_1.csv, shape: (1000000, 15)\n",
      "Processing file: 202211-citibike-tripdata_2.csv\n",
      "Extracted Year: 2022, Month: 11\n"
     ]
    },
    {
     "name": "stderr",
     "output_type": "stream",
     "text": [
      "C:\\Users\\kbuma\\AppData\\Local\\Temp\\ipykernel_75892\\876420610.py:32: DtypeWarning: Columns (5,7) have mixed types. Specify dtype option on import or set low_memory=False.\n",
      "  df = pd.read_csv(csv_file)\n"
     ]
    },
    {
     "name": "stdout",
     "output_type": "stream",
     "text": [
      "DataFrame shape after loading: (1000000, 13)\n",
      "Added DataFrame for 202211-citibike-tripdata_2.csv, shape: (1000000, 15)\n",
      "Processing file: 202211-citibike-tripdata_3.csv\n",
      "Extracted Year: 2022, Month: 11\n"
     ]
    },
    {
     "name": "stderr",
     "output_type": "stream",
     "text": [
      "C:\\Users\\kbuma\\AppData\\Local\\Temp\\ipykernel_75892\\876420610.py:32: DtypeWarning: Columns (7) have mixed types. Specify dtype option on import or set low_memory=False.\n",
      "  df = pd.read_csv(csv_file)\n"
     ]
    },
    {
     "name": "stdout",
     "output_type": "stream",
     "text": [
      "DataFrame shape after loading: (386394, 13)\n",
      "Added DataFrame for 202211-citibike-tripdata_3.csv, shape: (386394, 15)\n",
      "Processing file: 202212-citibike-tripdata_1.csv\n",
      "Extracted Year: 2022, Month: 12\n"
     ]
    },
    {
     "name": "stderr",
     "output_type": "stream",
     "text": [
      "C:\\Users\\kbuma\\AppData\\Local\\Temp\\ipykernel_75892\\876420610.py:32: DtypeWarning: Columns (5,7) have mixed types. Specify dtype option on import or set low_memory=False.\n",
      "  df = pd.read_csv(csv_file)\n"
     ]
    },
    {
     "name": "stdout",
     "output_type": "stream",
     "text": [
      "DataFrame shape after loading: (1000000, 13)\n",
      "Added DataFrame for 202212-citibike-tripdata_1.csv, shape: (1000000, 15)\n",
      "Processing file: 202212-citibike-tripdata_2.csv\n",
      "Extracted Year: 2022, Month: 12\n"
     ]
    },
    {
     "name": "stderr",
     "output_type": "stream",
     "text": [
      "C:\\Users\\kbuma\\AppData\\Local\\Temp\\ipykernel_75892\\876420610.py:32: DtypeWarning: Columns (5,7) have mixed types. Specify dtype option on import or set low_memory=False.\n",
      "  df = pd.read_csv(csv_file)\n"
     ]
    },
    {
     "name": "stdout",
     "output_type": "stream",
     "text": [
      "DataFrame shape after loading: (592049, 13)\n",
      "Added DataFrame for 202212-citibike-tripdata_2.csv, shape: (592049, 15)\n",
      "Number of DataFrames to concatenate: 36\n",
      "DataFrames successfully concatenated.\n"
     ]
    }
   ],
   "source": [
    "# Debug: Ensure the folder path is correct\n",
    "print(f\"Folder path being used: {folder_path}\")\n",
    "\n",
    "# Fetch all CSV files from the folder\n",
    "csv_files = glob.glob(os.path.join(folder_path, \"*.csv\"))\n",
    "\n",
    "# Check if any files were found\n",
    "if not csv_files:\n",
    "    print(f\"No CSV files found in {folder_path}.\")\n",
    "else:\n",
    "    print(f\"Found {len(csv_files)} CSV files.\")\n",
    "\n",
    "# List to hold all DataFrames\n",
    "all_dataframes = []\n",
    "\n",
    "for csv_file in csv_files:\n",
    "    # Extract filename\n",
    "    filename = os.path.basename(csv_file)\n",
    "    print(f\"Processing file: {filename}\")\n",
    "\n",
    "    # Use regex to extract the month and year from the filename\n",
    "    match = re.match(filename_pattern, filename)\n",
    "    \n",
    "    if match:\n",
    "        year_month = match.group(1)  # e.g., \"202201\"\n",
    "        year = year_month[:4]  # First 4 digits (2022)\n",
    "        month = year_month[4:]  # Last 2 digits (01)\n",
    "        \n",
    "        print(f\"Extracted Year: {year}, Month: {month}\")\n",
    "        \n",
    "        # Read the CSV file into a DataFrame\n",
    "        df = pd.read_csv(csv_file)\n",
    "\n",
    "        # Debug: Check the DataFrame's shape\n",
    "        print(f\"DataFrame shape after loading: {df.shape}\")\n",
    "        \n",
    "        if df.empty:\n",
    "            print(f\"Warning: {filename} is empty, skipping.\")\n",
    "        else:\n",
    "            # Add new columns for Month and Year\n",
    "            df['Month'] = month\n",
    "            df['Year'] = year\n",
    "            all_dataframes.append(df)\n",
    "            print(f\"Added DataFrame for {filename}, shape: {df.shape}\")\n",
    "    else:\n",
    "        print(f\"Filename doesn't match regex: {filename}\")\n",
    "\n",
    "# Check the number of DataFrames to concatenate\n",
    "print(f\"Number of DataFrames to concatenate: {len(all_dataframes)}\")\n",
    "\n",
    "# Concatenate all DataFrames into one\n",
    "if len(all_dataframes) > 0:\n",
    "    combined_df = pd.concat(all_dataframes, ignore_index=True)\n",
    "    print(\"DataFrames successfully concatenated.\")\n",
    "else:\n",
    "    print(\"No DataFrames to concatenate.\")\n"
   ]
  },
  {
   "cell_type": "code",
   "execution_count": 6,
   "id": "2b35cc54-5496-4cb4-a9b5-78101a28e2e8",
   "metadata": {},
   "outputs": [],
   "source": [
    "# Concatenate all DataFrames into one\n",
    "combined_df = pd.concat(all_dataframes, ignore_index=True)"
   ]
  },
  {
   "cell_type": "code",
   "execution_count": 7,
   "id": "0f6f7dc7-caa2-473a-b7fa-31207927530c",
   "metadata": {},
   "outputs": [
    {
     "data": {
      "text/html": [
       "<div>\n",
       "<style scoped>\n",
       "    .dataframe tbody tr th:only-of-type {\n",
       "        vertical-align: middle;\n",
       "    }\n",
       "\n",
       "    .dataframe tbody tr th {\n",
       "        vertical-align: top;\n",
       "    }\n",
       "\n",
       "    .dataframe thead th {\n",
       "        text-align: right;\n",
       "    }\n",
       "</style>\n",
       "<table border=\"1\" class=\"dataframe\">\n",
       "  <thead>\n",
       "    <tr style=\"text-align: right;\">\n",
       "      <th></th>\n",
       "      <th>ride_id</th>\n",
       "      <th>rideable_type</th>\n",
       "      <th>started_at</th>\n",
       "      <th>ended_at</th>\n",
       "      <th>start_station_name</th>\n",
       "      <th>start_station_id</th>\n",
       "      <th>end_station_name</th>\n",
       "      <th>end_station_id</th>\n",
       "      <th>start_lat</th>\n",
       "      <th>start_lng</th>\n",
       "      <th>end_lat</th>\n",
       "      <th>end_lng</th>\n",
       "      <th>member_casual</th>\n",
       "      <th>Month</th>\n",
       "      <th>Year</th>\n",
       "    </tr>\n",
       "  </thead>\n",
       "  <tbody>\n",
       "    <tr>\n",
       "      <th>0</th>\n",
       "      <td>BFD29218AB271154</td>\n",
       "      <td>electric_bike</td>\n",
       "      <td>2022-01-21 13:13:43.392</td>\n",
       "      <td>2022-01-21 13:22:31.463</td>\n",
       "      <td>West End Ave &amp; W 107 St</td>\n",
       "      <td>7650.05</td>\n",
       "      <td>Mt Morris Park W &amp; W 120 St</td>\n",
       "      <td>7685.14</td>\n",
       "      <td>40.802117</td>\n",
       "      <td>-73.968181</td>\n",
       "      <td>40.804038</td>\n",
       "      <td>-73.945925</td>\n",
       "      <td>member</td>\n",
       "      <td>01</td>\n",
       "      <td>2022</td>\n",
       "    </tr>\n",
       "    <tr>\n",
       "      <th>1</th>\n",
       "      <td>7C953F2FD7BE1302</td>\n",
       "      <td>classic_bike</td>\n",
       "      <td>2022-01-10 11:30:54.162</td>\n",
       "      <td>2022-01-10 11:41:43.422</td>\n",
       "      <td>4 Ave &amp; 3 St</td>\n",
       "      <td>4028.04</td>\n",
       "      <td>Boerum Pl\\t&amp; Pacific St</td>\n",
       "      <td>4488.09</td>\n",
       "      <td>40.673746</td>\n",
       "      <td>-73.985649</td>\n",
       "      <td>40.688489</td>\n",
       "      <td>-73.991160</td>\n",
       "      <td>member</td>\n",
       "      <td>01</td>\n",
       "      <td>2022</td>\n",
       "    </tr>\n",
       "    <tr>\n",
       "      <th>2</th>\n",
       "      <td>95893ABD40CED4B8</td>\n",
       "      <td>electric_bike</td>\n",
       "      <td>2022-01-26 10:52:43.096</td>\n",
       "      <td>2022-01-26 11:06:35.227</td>\n",
       "      <td>1 Ave &amp; E 62 St</td>\n",
       "      <td>6753.08</td>\n",
       "      <td>5 Ave &amp; E 29 St</td>\n",
       "      <td>6248.06</td>\n",
       "      <td>40.761227</td>\n",
       "      <td>-73.960940</td>\n",
       "      <td>40.745168</td>\n",
       "      <td>-73.986831</td>\n",
       "      <td>member</td>\n",
       "      <td>01</td>\n",
       "      <td>2022</td>\n",
       "    </tr>\n",
       "    <tr>\n",
       "      <th>3</th>\n",
       "      <td>F853B50772137378</td>\n",
       "      <td>classic_bike</td>\n",
       "      <td>2022-01-03 08:35:48.247</td>\n",
       "      <td>2022-01-03 09:10:50.475</td>\n",
       "      <td>2 Ave &amp; E 96 St</td>\n",
       "      <td>7338.02</td>\n",
       "      <td>5 Ave &amp; E 29 St</td>\n",
       "      <td>6248.06</td>\n",
       "      <td>40.783964</td>\n",
       "      <td>-73.947167</td>\n",
       "      <td>40.745168</td>\n",
       "      <td>-73.986831</td>\n",
       "      <td>member</td>\n",
       "      <td>01</td>\n",
       "      <td>2022</td>\n",
       "    </tr>\n",
       "    <tr>\n",
       "      <th>4</th>\n",
       "      <td>7590ADF834797B4B</td>\n",
       "      <td>classic_bike</td>\n",
       "      <td>2022-01-22 14:14:23.043</td>\n",
       "      <td>2022-01-22 14:34:57.474</td>\n",
       "      <td>6 Ave &amp; W 34 St</td>\n",
       "      <td>6364.10</td>\n",
       "      <td>5 Ave &amp; E 29 St</td>\n",
       "      <td>6248.06</td>\n",
       "      <td>40.749640</td>\n",
       "      <td>-73.988050</td>\n",
       "      <td>40.745168</td>\n",
       "      <td>-73.986831</td>\n",
       "      <td>member</td>\n",
       "      <td>01</td>\n",
       "      <td>2022</td>\n",
       "    </tr>\n",
       "  </tbody>\n",
       "</table>\n",
       "</div>"
      ],
      "text/plain": [
       "            ride_id  rideable_type               started_at  \\\n",
       "0  BFD29218AB271154  electric_bike  2022-01-21 13:13:43.392   \n",
       "1  7C953F2FD7BE1302   classic_bike  2022-01-10 11:30:54.162   \n",
       "2  95893ABD40CED4B8  electric_bike  2022-01-26 10:52:43.096   \n",
       "3  F853B50772137378   classic_bike  2022-01-03 08:35:48.247   \n",
       "4  7590ADF834797B4B   classic_bike  2022-01-22 14:14:23.043   \n",
       "\n",
       "                  ended_at       start_station_name start_station_id  \\\n",
       "0  2022-01-21 13:22:31.463  West End Ave & W 107 St          7650.05   \n",
       "1  2022-01-10 11:41:43.422             4 Ave & 3 St          4028.04   \n",
       "2  2022-01-26 11:06:35.227          1 Ave & E 62 St          6753.08   \n",
       "3  2022-01-03 09:10:50.475          2 Ave & E 96 St          7338.02   \n",
       "4  2022-01-22 14:34:57.474          6 Ave & W 34 St          6364.10   \n",
       "\n",
       "              end_station_name end_station_id  start_lat  start_lng  \\\n",
       "0  Mt Morris Park W & W 120 St        7685.14  40.802117 -73.968181   \n",
       "1      Boerum Pl\\t& Pacific St        4488.09  40.673746 -73.985649   \n",
       "2              5 Ave & E 29 St        6248.06  40.761227 -73.960940   \n",
       "3              5 Ave & E 29 St        6248.06  40.783964 -73.947167   \n",
       "4              5 Ave & E 29 St        6248.06  40.749640 -73.988050   \n",
       "\n",
       "     end_lat    end_lng member_casual Month  Year  \n",
       "0  40.804038 -73.945925        member    01  2022  \n",
       "1  40.688489 -73.991160        member    01  2022  \n",
       "2  40.745168 -73.986831        member    01  2022  \n",
       "3  40.745168 -73.986831        member    01  2022  \n",
       "4  40.745168 -73.986831        member    01  2022  "
      ]
     },
     "execution_count": 7,
     "metadata": {},
     "output_type": "execute_result"
    }
   ],
   "source": [
    "#view combined df\n",
    "combined_df.head()"
   ]
  },
  {
   "cell_type": "code",
   "execution_count": 8,
   "id": "8c9c220e-ae2a-428a-a2e5-415620a538f7",
   "metadata": {},
   "outputs": [
    {
     "name": "stdout",
     "output_type": "stream",
     "text": [
      "CSV files have been successfully combined and saved.\n"
     ]
    }
   ],
   "source": [
    "# Save the combined DataFrame to a new CSV\n",
    "combined_df.to_csv('data/2022_combined_file.csv', index=False)\n",
    "\n",
    "print(\"CSV files have been successfully combined and saved.\")"
   ]
  },
  {
   "cell_type": "code",
   "execution_count": 9,
   "id": "68a46abc-4b65-44ec-8252-f550fa8a4a63",
   "metadata": {},
   "outputs": [
    {
     "name": "stdout",
     "output_type": "stream",
     "text": [
      "object\n"
     ]
    }
   ],
   "source": [
    "print(combined_df['Month'].dtype)"
   ]
  },
  {
   "cell_type": "code",
   "execution_count": 10,
   "id": "67f52dfb-3269-479c-ab87-dcb3ed900182",
   "metadata": {},
   "outputs": [],
   "source": [
    "# Save a CSV File by Quarter for manigable data size\n",
    "# Step 1: Convert 'Month' column to integers (removes leading zeros if any)\n",
    "combined_df['Month'] = combined_df['Month'].astype(str).str.lstrip('0').astype(int)\n",
    "\n"
   ]
  },
  {
   "cell_type": "code",
   "execution_count": 11,
   "id": "e69445ab-a50f-4415-aa93-342575021b43",
   "metadata": {},
   "outputs": [
    {
     "name": "stdout",
     "output_type": "stream",
     "text": [
      "Q1 months data saved to 'Q1_2022_data.csv'.\n"
     ]
    }
   ],
   "source": [
    "# Filter months to match the desired quarter\n",
    "Q1_2022 = combined_df[combined_df['Month'].isin([1, 2, 3])]\n",
    "\n",
    "Q1_2022.head()\n",
    "\n",
    "# Save the filtered DataFrame to a new CSV\n",
    "Q1_2022.to_csv('data/Q1_2022_data.csv', index=False)\n",
    "\n",
    "print(\"Q1 months data saved to 'Q1_2022_data.csv'.\")"
   ]
  },
  {
   "cell_type": "code",
   "execution_count": 12,
   "id": "9838ab47-a4a4-4e60-9912-4c655cc622a0",
   "metadata": {},
   "outputs": [
    {
     "name": "stdout",
     "output_type": "stream",
     "text": [
      "Q2 months data saved to 'Q2_2022_data.csv'.\n"
     ]
    }
   ],
   "source": [
    "# Filter months to match the desired quarter\n",
    "Q2_2022 = combined_df[combined_df['Month'].isin([4, 5, 6])]\n",
    "\n",
    "Q2_2022.head()\n",
    "\n",
    "# Save the filtered DataFrame to a new CSV\n",
    "Q2_2022.to_csv('data/Q2_2022_data.csv', index=False)\n",
    "\n",
    "print(\"Q2 months data saved to 'Q2_2022_data.csv'.\")"
   ]
  },
  {
   "cell_type": "code",
   "execution_count": 13,
   "id": "a2708761-e0c1-482f-ae58-39ce49c1a8d6",
   "metadata": {},
   "outputs": [
    {
     "name": "stdout",
     "output_type": "stream",
     "text": [
      "Q3 months data saved to 'Q3_2022_data.csv'.\n"
     ]
    }
   ],
   "source": [
    "# Filter months to match the desired quarter\n",
    "Q3_2022 = combined_df[combined_df['Month'].isin([7, 8, 9])]\n",
    "\n",
    "Q3_2022.head()\n",
    "\n",
    "# Save the filtered DataFrame to a new CSV\n",
    "Q3_2022.to_csv('data/Q3_2022_data.csv', index=False)\n",
    "\n",
    "print(\"Q3 months data saved to 'Q3_2022_data.csv'.\")"
   ]
  },
  {
   "cell_type": "code",
   "execution_count": 14,
   "id": "94df0d2e-7bf6-4208-b5da-d121192eaeb0",
   "metadata": {},
   "outputs": [
    {
     "name": "stdout",
     "output_type": "stream",
     "text": [
      "Q4 months data saved to 'Q4_2022_data.csv'.\n"
     ]
    }
   ],
   "source": [
    "# Filter months to match the desired quarter\n",
    "Q4_2022 = combined_df[combined_df['Month'].isin([10, 11, 12])]\n",
    "\n",
    "Q4_2022.head()\n",
    "\n",
    "# Save the filtered DataFrame to a new CSV\n",
    "Q4_2022.to_csv('data/Q4_2022_data.csv', index=False)\n",
    "\n",
    "print(\"Q4 months data saved to 'Q4_2022_data.csv'.\")"
   ]
  }
 ],
 "metadata": {
  "kernelspec": {
   "display_name": "Python 3 (ipykernel)",
   "language": "python",
   "name": "python3"
  },
  "language_info": {
   "codemirror_mode": {
    "name": "ipython",
    "version": 3
   },
   "file_extension": ".py",
   "mimetype": "text/x-python",
   "name": "python",
   "nbconvert_exporter": "python",
   "pygments_lexer": "ipython3",
   "version": "3.10.14"
  }
 },
 "nbformat": 4,
 "nbformat_minor": 5
}
