{
 "cells": [
  {
   "cell_type": "code",
   "execution_count": 1,
   "id": "751f9382-5a0a-4e87-b133-22a85e04ef32",
   "metadata": {},
   "outputs": [],
   "source": [
    "# Create a Python Script to Loop through all of the CSVs, add Month, Year and combine into one CSV for Tableau Upload\n",
    "# Import Dependancies\n",
    "import os\n",
    "import pandas as pd\n",
    "import glob\n",
    "import re"
   ]
  },
  {
   "cell_type": "code",
   "execution_count": 2,
   "id": "2e6d8ee2-76ac-46ca-9b8e-142a2abe5f0a",
   "metadata": {},
   "outputs": [
    {
     "data": {
      "text/plain": [
       "'2023-citibike-tripdata'"
      ]
     },
     "execution_count": 2,
     "metadata": {},
     "output_type": "execute_result"
    }
   ],
   "source": [
    "# Path where your CSV files are located\n",
    "folder_path = '2023-citibike-tripdata'\n",
    "folder_path"
   ]
  },
  {
   "cell_type": "code",
   "execution_count": 3,
   "id": "af7e2c0a-7deb-44dc-b154-68188d847dc7",
   "metadata": {},
   "outputs": [],
   "source": [
    "# Pattern to extract month and year from the filename.\n",
    "filename_pattern = r'^(\\d{6})-citibike-tripdata_\\d+\\.csv$'"
   ]
  },
  {
   "cell_type": "code",
   "execution_count": 4,
   "id": "292cdd35-4860-42cd-befd-9076d2c28ac8",
   "metadata": {},
   "outputs": [],
   "source": [
    "# List to hold all DataFrames\n",
    "all_dataframes = []"
   ]
  },
  {
   "cell_type": "code",
   "execution_count": 5,
   "id": "0be4a04b-634e-4fd1-bef5-aefac7557932",
   "metadata": {},
   "outputs": [
    {
     "name": "stdout",
     "output_type": "stream",
     "text": [
      "Folder path being used: 2023-citibike-tripdata\n",
      "Found 40 CSV files.\n",
      "Processing file: 202301-citibike-tripdata_1.csv\n",
      "Extracted Year: 2023, Month: 01\n"
     ]
    },
    {
     "name": "stderr",
     "output_type": "stream",
     "text": [
      "C:\\Users\\kbuma\\AppData\\Local\\Temp\\ipykernel_48188\\1204480734.py:32: DtypeWarning: Columns (5,7) have mixed types. Specify dtype option on import or set low_memory=False.\n",
      "  df = pd.read_csv(csv_file)\n"
     ]
    },
    {
     "name": "stdout",
     "output_type": "stream",
     "text": [
      "DataFrame shape after loading: (1000000, 13)\n",
      "Added DataFrame for 202301-citibike-tripdata_1.csv, shape: (1000000, 15)\n",
      "Processing file: 202301-citibike-tripdata_2.csv\n",
      "Extracted Year: 2023, Month: 01\n"
     ]
    },
    {
     "name": "stderr",
     "output_type": "stream",
     "text": [
      "C:\\Users\\kbuma\\AppData\\Local\\Temp\\ipykernel_48188\\1204480734.py:32: DtypeWarning: Columns (5,7) have mixed types. Specify dtype option on import or set low_memory=False.\n",
      "  df = pd.read_csv(csv_file)\n"
     ]
    },
    {
     "name": "stdout",
     "output_type": "stream",
     "text": [
      "DataFrame shape after loading: (795412, 13)\n",
      "Added DataFrame for 202301-citibike-tripdata_2.csv, shape: (795412, 15)\n",
      "Processing file: 202302-citibike-tripdata_1.csv\n",
      "Extracted Year: 2023, Month: 02\n"
     ]
    },
    {
     "name": "stderr",
     "output_type": "stream",
     "text": [
      "C:\\Users\\kbuma\\AppData\\Local\\Temp\\ipykernel_48188\\1204480734.py:32: DtypeWarning: Columns (5,7) have mixed types. Specify dtype option on import or set low_memory=False.\n",
      "  df = pd.read_csv(csv_file)\n"
     ]
    },
    {
     "name": "stdout",
     "output_type": "stream",
     "text": [
      "DataFrame shape after loading: (1000000, 13)\n",
      "Added DataFrame for 202302-citibike-tripdata_1.csv, shape: (1000000, 15)\n",
      "Processing file: 202302-citibike-tripdata_2.csv\n",
      "Extracted Year: 2023, Month: 02\n"
     ]
    },
    {
     "name": "stderr",
     "output_type": "stream",
     "text": [
      "C:\\Users\\kbuma\\AppData\\Local\\Temp\\ipykernel_48188\\1204480734.py:32: DtypeWarning: Columns (5,7) have mixed types. Specify dtype option on import or set low_memory=False.\n",
      "  df = pd.read_csv(csv_file)\n"
     ]
    },
    {
     "name": "stdout",
     "output_type": "stream",
     "text": [
      "DataFrame shape after loading: (696171, 13)\n",
      "Added DataFrame for 202302-citibike-tripdata_2.csv, shape: (696171, 15)\n",
      "Processing file: 202303-citibike-tripdata_1.csv\n",
      "Extracted Year: 2023, Month: 03\n"
     ]
    },
    {
     "name": "stderr",
     "output_type": "stream",
     "text": [
      "C:\\Users\\kbuma\\AppData\\Local\\Temp\\ipykernel_48188\\1204480734.py:32: DtypeWarning: Columns (7) have mixed types. Specify dtype option on import or set low_memory=False.\n",
      "  df = pd.read_csv(csv_file)\n"
     ]
    },
    {
     "name": "stdout",
     "output_type": "stream",
     "text": [
      "DataFrame shape after loading: (1000000, 13)\n",
      "Added DataFrame for 202303-citibike-tripdata_1.csv, shape: (1000000, 15)\n",
      "Processing file: 202303-citibike-tripdata_2.csv\n",
      "Extracted Year: 2023, Month: 03\n"
     ]
    },
    {
     "name": "stderr",
     "output_type": "stream",
     "text": [
      "C:\\Users\\kbuma\\AppData\\Local\\Temp\\ipykernel_48188\\1204480734.py:32: DtypeWarning: Columns (7) have mixed types. Specify dtype option on import or set low_memory=False.\n",
      "  df = pd.read_csv(csv_file)\n"
     ]
    },
    {
     "name": "stdout",
     "output_type": "stream",
     "text": [
      "DataFrame shape after loading: (1000000, 13)\n",
      "Added DataFrame for 202303-citibike-tripdata_2.csv, shape: (1000000, 15)\n",
      "Processing file: 202303-citibike-tripdata_3.csv\n",
      "Extracted Year: 2023, Month: 03\n",
      "DataFrame shape after loading: (118932, 13)\n",
      "Added DataFrame for 202303-citibike-tripdata_3.csv, shape: (118932, 15)\n",
      "Processing file: 202304-citibike-tripdata_1.csv\n",
      "Extracted Year: 2023, Month: 04\n"
     ]
    },
    {
     "name": "stderr",
     "output_type": "stream",
     "text": [
      "C:\\Users\\kbuma\\AppData\\Local\\Temp\\ipykernel_48188\\1204480734.py:32: DtypeWarning: Columns (5,7) have mixed types. Specify dtype option on import or set low_memory=False.\n",
      "  df = pd.read_csv(csv_file)\n"
     ]
    },
    {
     "name": "stdout",
     "output_type": "stream",
     "text": [
      "DataFrame shape after loading: (1000000, 13)\n",
      "Added DataFrame for 202304-citibike-tripdata_1.csv, shape: (1000000, 15)\n",
      "Processing file: 202304-citibike-tripdata_2.csv\n",
      "Extracted Year: 2023, Month: 04\n"
     ]
    },
    {
     "name": "stderr",
     "output_type": "stream",
     "text": [
      "C:\\Users\\kbuma\\AppData\\Local\\Temp\\ipykernel_48188\\1204480734.py:32: DtypeWarning: Columns (5,7) have mixed types. Specify dtype option on import or set low_memory=False.\n",
      "  df = pd.read_csv(csv_file)\n"
     ]
    },
    {
     "name": "stdout",
     "output_type": "stream",
     "text": [
      "DataFrame shape after loading: (1000000, 13)\n",
      "Added DataFrame for 202304-citibike-tripdata_2.csv, shape: (1000000, 15)\n",
      "Processing file: 202304-citibike-tripdata_3.csv\n",
      "Extracted Year: 2023, Month: 04\n"
     ]
    },
    {
     "name": "stderr",
     "output_type": "stream",
     "text": [
      "C:\\Users\\kbuma\\AppData\\Local\\Temp\\ipykernel_48188\\1204480734.py:32: DtypeWarning: Columns (5,7) have mixed types. Specify dtype option on import or set low_memory=False.\n",
      "  df = pd.read_csv(csv_file)\n"
     ]
    },
    {
     "name": "stdout",
     "output_type": "stream",
     "text": [
      "DataFrame shape after loading: (749716, 13)\n",
      "Added DataFrame for 202304-citibike-tripdata_3.csv, shape: (749716, 15)\n",
      "Processing file: 202305-citibike-tripdata_1.csv\n",
      "Extracted Year: 2023, Month: 05\n"
     ]
    },
    {
     "name": "stderr",
     "output_type": "stream",
     "text": [
      "C:\\Users\\kbuma\\AppData\\Local\\Temp\\ipykernel_48188\\1204480734.py:32: DtypeWarning: Columns (5,7) have mixed types. Specify dtype option on import or set low_memory=False.\n",
      "  df = pd.read_csv(csv_file)\n"
     ]
    },
    {
     "name": "stdout",
     "output_type": "stream",
     "text": [
      "DataFrame shape after loading: (1000000, 13)\n",
      "Added DataFrame for 202305-citibike-tripdata_1.csv, shape: (1000000, 15)\n",
      "Processing file: 202305-citibike-tripdata_2.csv\n",
      "Extracted Year: 2023, Month: 05\n"
     ]
    },
    {
     "name": "stderr",
     "output_type": "stream",
     "text": [
      "C:\\Users\\kbuma\\AppData\\Local\\Temp\\ipykernel_48188\\1204480734.py:32: DtypeWarning: Columns (7) have mixed types. Specify dtype option on import or set low_memory=False.\n",
      "  df = pd.read_csv(csv_file)\n"
     ]
    },
    {
     "name": "stdout",
     "output_type": "stream",
     "text": [
      "DataFrame shape after loading: (1000000, 13)\n",
      "Added DataFrame for 202305-citibike-tripdata_2.csv, shape: (1000000, 15)\n",
      "Processing file: 202305-citibike-tripdata_3.csv\n",
      "Extracted Year: 2023, Month: 05\n"
     ]
    },
    {
     "name": "stderr",
     "output_type": "stream",
     "text": [
      "C:\\Users\\kbuma\\AppData\\Local\\Temp\\ipykernel_48188\\1204480734.py:32: DtypeWarning: Columns (5,7) have mixed types. Specify dtype option on import or set low_memory=False.\n",
      "  df = pd.read_csv(csv_file)\n"
     ]
    },
    {
     "name": "stdout",
     "output_type": "stream",
     "text": [
      "DataFrame shape after loading: (1000000, 13)\n",
      "Added DataFrame for 202305-citibike-tripdata_3.csv, shape: (1000000, 15)\n",
      "Processing file: 202305-citibike-tripdata_4.csv\n",
      "Extracted Year: 2023, Month: 05\n"
     ]
    },
    {
     "name": "stderr",
     "output_type": "stream",
     "text": [
      "C:\\Users\\kbuma\\AppData\\Local\\Temp\\ipykernel_48188\\1204480734.py:32: DtypeWarning: Columns (7) have mixed types. Specify dtype option on import or set low_memory=False.\n",
      "  df = pd.read_csv(csv_file)\n"
     ]
    },
    {
     "name": "stdout",
     "output_type": "stream",
     "text": [
      "DataFrame shape after loading: (453152, 13)\n",
      "Added DataFrame for 202305-citibike-tripdata_4.csv, shape: (453152, 15)\n",
      "Processing file: 202306-citibike-tripdata_1.csv\n",
      "Extracted Year: 2023, Month: 06\n"
     ]
    },
    {
     "name": "stderr",
     "output_type": "stream",
     "text": [
      "C:\\Users\\kbuma\\AppData\\Local\\Temp\\ipykernel_48188\\1204480734.py:32: DtypeWarning: Columns (5,7) have mixed types. Specify dtype option on import or set low_memory=False.\n",
      "  df = pd.read_csv(csv_file)\n"
     ]
    },
    {
     "name": "stdout",
     "output_type": "stream",
     "text": [
      "DataFrame shape after loading: (1000000, 13)\n",
      "Added DataFrame for 202306-citibike-tripdata_1.csv, shape: (1000000, 15)\n",
      "Processing file: 202306-citibike-tripdata_2.csv\n",
      "Extracted Year: 2023, Month: 06\n"
     ]
    },
    {
     "name": "stderr",
     "output_type": "stream",
     "text": [
      "C:\\Users\\kbuma\\AppData\\Local\\Temp\\ipykernel_48188\\1204480734.py:32: DtypeWarning: Columns (5,7) have mixed types. Specify dtype option on import or set low_memory=False.\n",
      "  df = pd.read_csv(csv_file)\n"
     ]
    },
    {
     "name": "stdout",
     "output_type": "stream",
     "text": [
      "DataFrame shape after loading: (1000000, 13)\n",
      "Added DataFrame for 202306-citibike-tripdata_2.csv, shape: (1000000, 15)\n",
      "Processing file: 202306-citibike-tripdata_3.csv\n",
      "Extracted Year: 2023, Month: 06\n"
     ]
    },
    {
     "name": "stderr",
     "output_type": "stream",
     "text": [
      "C:\\Users\\kbuma\\AppData\\Local\\Temp\\ipykernel_48188\\1204480734.py:32: DtypeWarning: Columns (5,7) have mixed types. Specify dtype option on import or set low_memory=False.\n",
      "  df = pd.read_csv(csv_file)\n"
     ]
    },
    {
     "name": "stdout",
     "output_type": "stream",
     "text": [
      "DataFrame shape after loading: (1000000, 13)\n",
      "Added DataFrame for 202306-citibike-tripdata_3.csv, shape: (1000000, 15)\n",
      "Processing file: 202306-citibike-tripdata_4.csv\n",
      "Extracted Year: 2023, Month: 06\n"
     ]
    },
    {
     "name": "stderr",
     "output_type": "stream",
     "text": [
      "C:\\Users\\kbuma\\AppData\\Local\\Temp\\ipykernel_48188\\1204480734.py:32: DtypeWarning: Columns (5,7) have mixed types. Specify dtype option on import or set low_memory=False.\n",
      "  df = pd.read_csv(csv_file)\n"
     ]
    },
    {
     "name": "stdout",
     "output_type": "stream",
     "text": [
      "DataFrame shape after loading: (451549, 13)\n",
      "Added DataFrame for 202306-citibike-tripdata_4.csv, shape: (451549, 15)\n",
      "Processing file: 202307-citibike-tripdata_1.csv\n",
      "Extracted Year: 2023, Month: 07\n"
     ]
    },
    {
     "name": "stderr",
     "output_type": "stream",
     "text": [
      "C:\\Users\\kbuma\\AppData\\Local\\Temp\\ipykernel_48188\\1204480734.py:32: DtypeWarning: Columns (5,7) have mixed types. Specify dtype option on import or set low_memory=False.\n",
      "  df = pd.read_csv(csv_file)\n"
     ]
    },
    {
     "name": "stdout",
     "output_type": "stream",
     "text": [
      "DataFrame shape after loading: (1000000, 13)\n",
      "Added DataFrame for 202307-citibike-tripdata_1.csv, shape: (1000000, 15)\n",
      "Processing file: 202307-citibike-tripdata_2.csv\n",
      "Extracted Year: 2023, Month: 07\n"
     ]
    },
    {
     "name": "stderr",
     "output_type": "stream",
     "text": [
      "C:\\Users\\kbuma\\AppData\\Local\\Temp\\ipykernel_48188\\1204480734.py:32: DtypeWarning: Columns (5,7) have mixed types. Specify dtype option on import or set low_memory=False.\n",
      "  df = pd.read_csv(csv_file)\n"
     ]
    },
    {
     "name": "stdout",
     "output_type": "stream",
     "text": [
      "DataFrame shape after loading: (1000000, 13)\n",
      "Added DataFrame for 202307-citibike-tripdata_2.csv, shape: (1000000, 15)\n",
      "Processing file: 202307-citibike-tripdata_3.csv\n",
      "Extracted Year: 2023, Month: 07\n"
     ]
    },
    {
     "name": "stderr",
     "output_type": "stream",
     "text": [
      "C:\\Users\\kbuma\\AppData\\Local\\Temp\\ipykernel_48188\\1204480734.py:32: DtypeWarning: Columns (5,7) have mixed types. Specify dtype option on import or set low_memory=False.\n",
      "  df = pd.read_csv(csv_file)\n"
     ]
    },
    {
     "name": "stdout",
     "output_type": "stream",
     "text": [
      "DataFrame shape after loading: (1000000, 13)\n",
      "Added DataFrame for 202307-citibike-tripdata_3.csv, shape: (1000000, 15)\n",
      "Processing file: 202307-citibike-tripdata_4.csv\n",
      "Extracted Year: 2023, Month: 07\n"
     ]
    },
    {
     "name": "stderr",
     "output_type": "stream",
     "text": [
      "C:\\Users\\kbuma\\AppData\\Local\\Temp\\ipykernel_48188\\1204480734.py:32: DtypeWarning: Columns (5,7) have mixed types. Specify dtype option on import or set low_memory=False.\n",
      "  df = pd.read_csv(csv_file)\n"
     ]
    },
    {
     "name": "stdout",
     "output_type": "stream",
     "text": [
      "DataFrame shape after loading: (659581, 13)\n",
      "Added DataFrame for 202307-citibike-tripdata_4.csv, shape: (659581, 15)\n",
      "Processing file: 202308-citibike-tripdata_1.csv\n",
      "Extracted Year: 2023, Month: 08\n"
     ]
    },
    {
     "name": "stderr",
     "output_type": "stream",
     "text": [
      "C:\\Users\\kbuma\\AppData\\Local\\Temp\\ipykernel_48188\\1204480734.py:32: DtypeWarning: Columns (5,7) have mixed types. Specify dtype option on import or set low_memory=False.\n",
      "  df = pd.read_csv(csv_file)\n"
     ]
    },
    {
     "name": "stdout",
     "output_type": "stream",
     "text": [
      "DataFrame shape after loading: (1000000, 13)\n",
      "Added DataFrame for 202308-citibike-tripdata_1.csv, shape: (1000000, 15)\n",
      "Processing file: 202308-citibike-tripdata_2.csv\n",
      "Extracted Year: 2023, Month: 08\n"
     ]
    },
    {
     "name": "stderr",
     "output_type": "stream",
     "text": [
      "C:\\Users\\kbuma\\AppData\\Local\\Temp\\ipykernel_48188\\1204480734.py:32: DtypeWarning: Columns (5,7) have mixed types. Specify dtype option on import or set low_memory=False.\n",
      "  df = pd.read_csv(csv_file)\n"
     ]
    },
    {
     "name": "stdout",
     "output_type": "stream",
     "text": [
      "DataFrame shape after loading: (1000000, 13)\n",
      "Added DataFrame for 202308-citibike-tripdata_2.csv, shape: (1000000, 15)\n",
      "Processing file: 202308-citibike-tripdata_3.csv\n",
      "Extracted Year: 2023, Month: 08\n"
     ]
    },
    {
     "name": "stderr",
     "output_type": "stream",
     "text": [
      "C:\\Users\\kbuma\\AppData\\Local\\Temp\\ipykernel_48188\\1204480734.py:32: DtypeWarning: Columns (5,7) have mixed types. Specify dtype option on import or set low_memory=False.\n",
      "  df = pd.read_csv(csv_file)\n"
     ]
    },
    {
     "name": "stdout",
     "output_type": "stream",
     "text": [
      "DataFrame shape after loading: (1000000, 13)\n",
      "Added DataFrame for 202308-citibike-tripdata_3.csv, shape: (1000000, 15)\n",
      "Processing file: 202308-citibike-tripdata_4.csv\n",
      "Extracted Year: 2023, Month: 08\n"
     ]
    },
    {
     "name": "stderr",
     "output_type": "stream",
     "text": [
      "C:\\Users\\kbuma\\AppData\\Local\\Temp\\ipykernel_48188\\1204480734.py:32: DtypeWarning: Columns (5,7) have mixed types. Specify dtype option on import or set low_memory=False.\n",
      "  df = pd.read_csv(csv_file)\n"
     ]
    },
    {
     "name": "stdout",
     "output_type": "stream",
     "text": [
      "DataFrame shape after loading: (964180, 13)\n",
      "Added DataFrame for 202308-citibike-tripdata_4.csv, shape: (964180, 15)\n",
      "Processing file: 202309-citibike-tripdata_1.csv\n",
      "Extracted Year: 2023, Month: 09\n"
     ]
    },
    {
     "name": "stderr",
     "output_type": "stream",
     "text": [
      "C:\\Users\\kbuma\\AppData\\Local\\Temp\\ipykernel_48188\\1204480734.py:32: DtypeWarning: Columns (5,7) have mixed types. Specify dtype option on import or set low_memory=False.\n",
      "  df = pd.read_csv(csv_file)\n"
     ]
    },
    {
     "name": "stdout",
     "output_type": "stream",
     "text": [
      "DataFrame shape after loading: (1000000, 13)\n",
      "Added DataFrame for 202309-citibike-tripdata_1.csv, shape: (1000000, 15)\n",
      "Processing file: 202309-citibike-tripdata_2.csv\n",
      "Extracted Year: 2023, Month: 09\n"
     ]
    },
    {
     "name": "stderr",
     "output_type": "stream",
     "text": [
      "C:\\Users\\kbuma\\AppData\\Local\\Temp\\ipykernel_48188\\1204480734.py:32: DtypeWarning: Columns (5,7) have mixed types. Specify dtype option on import or set low_memory=False.\n",
      "  df = pd.read_csv(csv_file)\n"
     ]
    },
    {
     "name": "stdout",
     "output_type": "stream",
     "text": [
      "DataFrame shape after loading: (1000000, 13)\n",
      "Added DataFrame for 202309-citibike-tripdata_2.csv, shape: (1000000, 15)\n",
      "Processing file: 202309-citibike-tripdata_3.csv\n",
      "Extracted Year: 2023, Month: 09\n"
     ]
    },
    {
     "name": "stderr",
     "output_type": "stream",
     "text": [
      "C:\\Users\\kbuma\\AppData\\Local\\Temp\\ipykernel_48188\\1204480734.py:32: DtypeWarning: Columns (5,7) have mixed types. Specify dtype option on import or set low_memory=False.\n",
      "  df = pd.read_csv(csv_file)\n"
     ]
    },
    {
     "name": "stdout",
     "output_type": "stream",
     "text": [
      "DataFrame shape after loading: (1000000, 13)\n",
      "Added DataFrame for 202309-citibike-tripdata_3.csv, shape: (1000000, 15)\n",
      "Processing file: 202309-citibike-tripdata_4.csv\n",
      "Extracted Year: 2023, Month: 09\n"
     ]
    },
    {
     "name": "stderr",
     "output_type": "stream",
     "text": [
      "C:\\Users\\kbuma\\AppData\\Local\\Temp\\ipykernel_48188\\1204480734.py:32: DtypeWarning: Columns (5) have mixed types. Specify dtype option on import or set low_memory=False.\n",
      "  df = pd.read_csv(csv_file)\n"
     ]
    },
    {
     "name": "stdout",
     "output_type": "stream",
     "text": [
      "DataFrame shape after loading: (471150, 13)\n",
      "Added DataFrame for 202309-citibike-tripdata_4.csv, shape: (471150, 15)\n",
      "Processing file: 202310-citibike-tripdata_1.csv\n",
      "Extracted Year: 2023, Month: 10\n"
     ]
    },
    {
     "name": "stderr",
     "output_type": "stream",
     "text": [
      "C:\\Users\\kbuma\\AppData\\Local\\Temp\\ipykernel_48188\\1204480734.py:32: DtypeWarning: Columns (7) have mixed types. Specify dtype option on import or set low_memory=False.\n",
      "  df = pd.read_csv(csv_file)\n"
     ]
    },
    {
     "name": "stdout",
     "output_type": "stream",
     "text": [
      "DataFrame shape after loading: (1000000, 13)\n",
      "Added DataFrame for 202310-citibike-tripdata_1.csv, shape: (1000000, 15)\n",
      "Processing file: 202310-citibike-tripdata_2.csv\n",
      "Extracted Year: 2023, Month: 10\n"
     ]
    },
    {
     "name": "stderr",
     "output_type": "stream",
     "text": [
      "C:\\Users\\kbuma\\AppData\\Local\\Temp\\ipykernel_48188\\1204480734.py:32: DtypeWarning: Columns (7) have mixed types. Specify dtype option on import or set low_memory=False.\n",
      "  df = pd.read_csv(csv_file)\n"
     ]
    },
    {
     "name": "stdout",
     "output_type": "stream",
     "text": [
      "DataFrame shape after loading: (1000000, 13)\n",
      "Added DataFrame for 202310-citibike-tripdata_2.csv, shape: (1000000, 15)\n",
      "Processing file: 202310-citibike-tripdata_3.csv\n",
      "Extracted Year: 2023, Month: 10\n"
     ]
    },
    {
     "name": "stderr",
     "output_type": "stream",
     "text": [
      "C:\\Users\\kbuma\\AppData\\Local\\Temp\\ipykernel_48188\\1204480734.py:32: DtypeWarning: Columns (5,7) have mixed types. Specify dtype option on import or set low_memory=False.\n",
      "  df = pd.read_csv(csv_file)\n"
     ]
    },
    {
     "name": "stdout",
     "output_type": "stream",
     "text": [
      "DataFrame shape after loading: (1000000, 13)\n",
      "Added DataFrame for 202310-citibike-tripdata_3.csv, shape: (1000000, 15)\n",
      "Processing file: 202310-citibike-tripdata_4.csv\n",
      "Extracted Year: 2023, Month: 10\n"
     ]
    },
    {
     "name": "stderr",
     "output_type": "stream",
     "text": [
      "C:\\Users\\kbuma\\AppData\\Local\\Temp\\ipykernel_48188\\1204480734.py:32: DtypeWarning: Columns (7) have mixed types. Specify dtype option on import or set low_memory=False.\n",
      "  df = pd.read_csv(csv_file)\n"
     ]
    },
    {
     "name": "stdout",
     "output_type": "stream",
     "text": [
      "DataFrame shape after loading: (725336, 13)\n",
      "Added DataFrame for 202310-citibike-tripdata_4.csv, shape: (725336, 15)\n",
      "Processing file: 202311-citibike-tripdata_1.csv\n",
      "Extracted Year: 2023, Month: 11\n"
     ]
    },
    {
     "name": "stderr",
     "output_type": "stream",
     "text": [
      "C:\\Users\\kbuma\\AppData\\Local\\Temp\\ipykernel_48188\\1204480734.py:32: DtypeWarning: Columns (7) have mixed types. Specify dtype option on import or set low_memory=False.\n",
      "  df = pd.read_csv(csv_file)\n"
     ]
    },
    {
     "name": "stdout",
     "output_type": "stream",
     "text": [
      "DataFrame shape after loading: (1000000, 13)\n",
      "Added DataFrame for 202311-citibike-tripdata_1.csv, shape: (1000000, 15)\n",
      "Processing file: 202311-citibike-tripdata_2.csv\n",
      "Extracted Year: 2023, Month: 11\n"
     ]
    },
    {
     "name": "stderr",
     "output_type": "stream",
     "text": [
      "C:\\Users\\kbuma\\AppData\\Local\\Temp\\ipykernel_48188\\1204480734.py:32: DtypeWarning: Columns (5,7) have mixed types. Specify dtype option on import or set low_memory=False.\n",
      "  df = pd.read_csv(csv_file)\n"
     ]
    },
    {
     "name": "stdout",
     "output_type": "stream",
     "text": [
      "DataFrame shape after loading: (1000000, 13)\n",
      "Added DataFrame for 202311-citibike-tripdata_2.csv, shape: (1000000, 15)\n",
      "Processing file: 202311-citibike-tripdata_3.csv\n",
      "Extracted Year: 2023, Month: 11\n"
     ]
    },
    {
     "name": "stderr",
     "output_type": "stream",
     "text": [
      "C:\\Users\\kbuma\\AppData\\Local\\Temp\\ipykernel_48188\\1204480734.py:32: DtypeWarning: Columns (7) have mixed types. Specify dtype option on import or set low_memory=False.\n",
      "  df = pd.read_csv(csv_file)\n"
     ]
    },
    {
     "name": "stdout",
     "output_type": "stream",
     "text": [
      "DataFrame shape after loading: (816977, 13)\n",
      "Added DataFrame for 202311-citibike-tripdata_3.csv, shape: (816977, 15)\n",
      "Processing file: 202312-citibike-tripdata_1.csv\n",
      "Extracted Year: 2023, Month: 12\n"
     ]
    },
    {
     "name": "stderr",
     "output_type": "stream",
     "text": [
      "C:\\Users\\kbuma\\AppData\\Local\\Temp\\ipykernel_48188\\1204480734.py:32: DtypeWarning: Columns (7) have mixed types. Specify dtype option on import or set low_memory=False.\n",
      "  df = pd.read_csv(csv_file)\n"
     ]
    },
    {
     "name": "stdout",
     "output_type": "stream",
     "text": [
      "DataFrame shape after loading: (1000000, 13)\n",
      "Added DataFrame for 202312-citibike-tripdata_1.csv, shape: (1000000, 15)\n",
      "Processing file: 202312-citibike-tripdata_2.csv\n",
      "Extracted Year: 2023, Month: 12\n"
     ]
    },
    {
     "name": "stderr",
     "output_type": "stream",
     "text": [
      "C:\\Users\\kbuma\\AppData\\Local\\Temp\\ipykernel_48188\\1204480734.py:32: DtypeWarning: Columns (7) have mixed types. Specify dtype option on import or set low_memory=False.\n",
      "  df = pd.read_csv(csv_file)\n"
     ]
    },
    {
     "name": "stdout",
     "output_type": "stream",
     "text": [
      "DataFrame shape after loading: (1000000, 13)\n",
      "Added DataFrame for 202312-citibike-tripdata_2.csv, shape: (1000000, 15)\n",
      "Processing file: 202312-citibike-tripdata_3.csv\n",
      "Extracted Year: 2023, Month: 12\n"
     ]
    },
    {
     "name": "stderr",
     "output_type": "stream",
     "text": [
      "C:\\Users\\kbuma\\AppData\\Local\\Temp\\ipykernel_48188\\1204480734.py:32: DtypeWarning: Columns (7) have mixed types. Specify dtype option on import or set low_memory=False.\n",
      "  df = pd.read_csv(csv_file)\n"
     ]
    },
    {
     "name": "stdout",
     "output_type": "stream",
     "text": [
      "DataFrame shape after loading: (204874, 13)\n",
      "Added DataFrame for 202312-citibike-tripdata_3.csv, shape: (204874, 15)\n",
      "Number of DataFrames to concatenate: 40\n",
      "DataFrames successfully concatenated.\n"
     ]
    }
   ],
   "source": [
    "# Debug: Ensure the folder path is correct\n",
    "print(f\"Folder path being used: {folder_path}\")\n",
    "\n",
    "# Fetch all CSV files from the folder\n",
    "csv_files = glob.glob(os.path.join(folder_path, \"*.csv\"))\n",
    "\n",
    "# Check if any files were found\n",
    "if not csv_files:\n",
    "    print(f\"No CSV files found in {folder_path}.\")\n",
    "else:\n",
    "    print(f\"Found {len(csv_files)} CSV files.\")\n",
    "\n",
    "# List to hold all DataFrames\n",
    "all_dataframes = []\n",
    "\n",
    "for csv_file in csv_files:\n",
    "    # Extract filename\n",
    "    filename = os.path.basename(csv_file)\n",
    "    print(f\"Processing file: {filename}\")\n",
    "\n",
    "    # Use regex to extract the month and year from the filename\n",
    "    match = re.match(filename_pattern, filename)\n",
    "    \n",
    "    if match:\n",
    "        year_month = match.group(1)\n",
    "        year = year_month[:4]\n",
    "        month = year_month[4:] \n",
    "        \n",
    "        print(f\"Extracted Year: {year}, Month: {month}\")\n",
    "        \n",
    "        # Read the CSV file into a DataFrame\n",
    "        df = pd.read_csv(csv_file)\n",
    "\n",
    "        # Debug: Check the DataFrame's shape\n",
    "        print(f\"DataFrame shape after loading: {df.shape}\")\n",
    "        \n",
    "        if df.empty:\n",
    "            print(f\"Warning: {filename} is empty, skipping.\")\n",
    "        else:\n",
    "            # Add new columns for Month and Year\n",
    "            df['Month'] = month\n",
    "            df['Year'] = year\n",
    "            all_dataframes.append(df)\n",
    "            print(f\"Added DataFrame for {filename}, shape: {df.shape}\")\n",
    "    else:\n",
    "        print(f\"Filename doesn't match regex: {filename}\")\n",
    "\n",
    "# Check the number of DataFrames to concatenate\n",
    "print(f\"Number of DataFrames to concatenate: {len(all_dataframes)}\")\n",
    "\n",
    "# Concatenate all DataFrames into one\n",
    "if len(all_dataframes) > 0:\n",
    "    combined_df = pd.concat(all_dataframes, ignore_index=True)\n",
    "    print(\"DataFrames successfully concatenated.\")\n",
    "else:\n",
    "    print(\"No DataFrames to concatenate.\")\n"
   ]
  },
  {
   "cell_type": "code",
   "execution_count": 6,
   "id": "35c7fa60-f548-4fa0-aa7f-b90270d6afb5",
   "metadata": {},
   "outputs": [
    {
     "name": "stdout",
     "output_type": "stream",
     "text": [
      "ERROR! Session/line number was not unique in database. History logging moved to new session 387\n"
     ]
    }
   ],
   "source": [
    "# Concatenate all DataFrames into one\n",
    "combined_df = pd.concat(all_dataframes, ignore_index=True)"
   ]
  },
  {
   "cell_type": "code",
   "execution_count": 7,
   "id": "095e8724-67af-413d-a07b-d2f3114dacfb",
   "metadata": {},
   "outputs": [
    {
     "name": "stdout",
     "output_type": "stream",
     "text": [
      "CSV files have been successfully combined and saved.\n"
     ]
    }
   ],
   "source": [
    "# Save the combined DataFrame to a new CSV\n",
    "combined_df.to_csv('data/2023_combined_file.csv', index=False)\n",
    "\n",
    "print(\"CSV files have been successfully combined and saved.\")"
   ]
  },
  {
   "cell_type": "code",
   "execution_count": 8,
   "id": "7e3389f7-3faf-498d-b783-95730cc43c1e",
   "metadata": {},
   "outputs": [],
   "source": [
    "# Save a CSV File by Quarter for manigable data size\n",
    "# Step 1: Convert 'Month' column to integers (removes leading zeros if any)\n",
    "combined_df['Month'] = combined_df['Month'].astype(str).str.lstrip('0').astype(int)"
   ]
  },
  {
   "cell_type": "code",
   "execution_count": 9,
   "id": "b812a3e7-c573-40a6-bea9-30e39b6fc9f2",
   "metadata": {},
   "outputs": [
    {
     "name": "stdout",
     "output_type": "stream",
     "text": [
      "Q1 months data saved to 'Q1_2023_data.csv'.\n"
     ]
    }
   ],
   "source": [
    "# Filter months to match the desired quarter\n",
    "Q1_2023 = combined_df[combined_df['Month'].isin([1, 2, 3])]\n",
    "\n",
    "Q1_2023.head()\n",
    "\n",
    "# Save the filtered DataFrame to a new CSV\n",
    "Q1_2023.to_csv('data/Q1_2023_data.csv', index=False)\n",
    "\n",
    "print(\"Q1 months data saved to 'Q1_2023_data.csv'.\")"
   ]
  },
  {
   "cell_type": "code",
   "execution_count": 10,
   "id": "0fe532f6-339d-47ad-af93-91b01e695267",
   "metadata": {},
   "outputs": [
    {
     "name": "stdout",
     "output_type": "stream",
     "text": [
      "Q2 months data saved to 'Q2_2023_data.csv'.\n"
     ]
    }
   ],
   "source": [
    "# Filter months to match the desired quarter\n",
    "Q2_2023 = combined_df[combined_df['Month'].isin([4, 5, 6])]\n",
    "\n",
    "Q2_2023.head()\n",
    "\n",
    "# Save the filtered DataFrame to a new CSV\n",
    "Q2_2023.to_csv('data/Q2_2023_data.csv', index=False)\n",
    "\n",
    "print(\"Q2 months data saved to 'Q2_2023_data.csv'.\")"
   ]
  },
  {
   "cell_type": "code",
   "execution_count": 11,
   "id": "41c9c164-deb9-4283-b3fa-3387575feef8",
   "metadata": {},
   "outputs": [
    {
     "name": "stdout",
     "output_type": "stream",
     "text": [
      "Q3 months data saved to 'Q3_2023_data.csv'.\n"
     ]
    }
   ],
   "source": [
    "# Filter months to match the desired quarter\n",
    "Q3_2023 = combined_df[combined_df['Month'].isin([7, 8, 9])]\n",
    "\n",
    "Q3_2023.head()\n",
    "\n",
    "# Save the filtered DataFrame to a new CSV\n",
    "Q3_2023.to_csv('data/Q3_2023_data.csv', index=False)\n",
    "\n",
    "print(\"Q3 months data saved to 'Q3_2023_data.csv'.\")"
   ]
  },
  {
   "cell_type": "code",
   "execution_count": 12,
   "id": "391dffb7-e3cf-483b-8876-c40b9177f586",
   "metadata": {},
   "outputs": [
    {
     "name": "stdout",
     "output_type": "stream",
     "text": [
      "Q4 months data saved to 'Q4_2023_data.csv'.\n"
     ]
    }
   ],
   "source": [
    "# Filter months to match the desired quarter\n",
    "Q4_2023 = combined_df[combined_df['Month'].isin([10, 11, 12])]\n",
    "\n",
    "Q4_2023.head()\n",
    "\n",
    "# Save the filtered DataFrame to a new CSV\n",
    "Q4_2023.to_csv('data/Q4_2023_data.csv', index=False)\n",
    "\n",
    "print(\"Q4 months data saved to 'Q4_2023_data.csv'.\")"
   ]
  }
 ],
 "metadata": {
  "kernelspec": {
   "display_name": "Python 3 (ipykernel)",
   "language": "python",
   "name": "python3"
  },
  "language_info": {
   "codemirror_mode": {
    "name": "ipython",
    "version": 3
   },
   "file_extension": ".py",
   "mimetype": "text/x-python",
   "name": "python",
   "nbconvert_exporter": "python",
   "pygments_lexer": "ipython3",
   "version": "3.10.14"
  }
 },
 "nbformat": 4,
 "nbformat_minor": 5
}
